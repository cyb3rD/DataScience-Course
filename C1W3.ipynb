{
 "cells": [
  {
   "cell_type": "markdown",
   "metadata": {},
   "source": [
    "# Оптимизация в Python: глобальная оптимизация и оптимизация негладкой функции\n",
    "## Course 1 Week 3\n",
    "### Задача 1. Минимизация гладкой функции"
   ]
  },
  {
   "cell_type": "markdown",
   "metadata": {},
   "source": [
    "1. Рассмотрим все ту же функцию из задания по линейной алгебре: f(x) = sin(x / 5) * exp(x / 10) + 5 * exp(-x / 2), но теперь уже на промежутке [1, 30]\n",
    "2. В первом задании будем искать минимум этой функции на заданном промежутке с помощью scipy.optimize. Разумеется, в дальнейшем вы будете использовать методы оптимизации для более сложных функций, а f(x) мы рассмотрим как удобный учебный пример.\n",
    "3. Напишите на Питоне функцию, вычисляющую значение f(x) по известному x. Будьте внимательны: не забывайте про то, что по умолчанию в питоне целые числа делятся нацело, и о том, что функции sin и exp нужно импортировать из модуля math.\n",
    "4. Изучите примеры использования scipy.optimize.minimize в документации "
   ]
  },
  {
   "cell_type": "code",
   "execution_count": 73,
   "metadata": {},
   "outputs": [
    {
     "data": {
      "image/png": "[encoded data removed]",
      "text/plain": [
       "<Figure size 432x288 with 1 Axes>"
      ]
     },
     "metadata": {
      "needs_background": "light"
     },
     "output_type": "display_data"
    }
   ],
   "source": [
    "%matplotlib inline\n",
    "\n",
    "import numpy as np\n",
    "import scipy as sp\n",
    "import math as math\n",
    "import matplotlib.pyplot as plt\n",
    "\n",
    "# Function definition\n",
    "def func (x):\n",
    "    \"\"\"\n",
    "    np.sin(x/5)*np.exp(x/10) + 5*np.exp(-x/2)\n",
    "    \"\"\"\n",
    "    return math.sin(x/5.)*math.exp(x/10.) + 5.*math.exp(-x/2.)\n",
    "\n",
    "# Draw function\n",
    "def drawfunc(xmin, xmax, dx, func):\n",
    "\n",
    "    # !!! Создадим список координат по оси X на отрезке [-xmin; xmax], включая концы\n",
    "    xlist = np.arange (xmin, xmax, dx)\n",
    "    #print xlist\n",
    "    # Вычислим значение функции в заданных точках\n",
    "    ylist = [func (x) for x in xlist]\n",
    "    #print ylist\n",
    "    # !!! Нарисуем одномерный график\n",
    "    plt.plot (xlist, ylist)\n",
    "    # !!! Покажем окно с нарисованным графиком\n",
    "    plt.show()\n",
    "    \n",
    "drawfunc(1., 30, 0.01, func)    \n"
   ]
  },
  {
   "cell_type": "markdown",
   "metadata": {},
   "source": [
    "5. Попробуйте найти минимум, используя стандартные параметры в функции scipy.optimize.minimize (т.е. задав только функцию и начальное приближение). Попробуйте менять начальное приближение и изучить, меняется ли результат."
   ]
  },
  {
   "cell_type": "code",
   "execution_count": 74,
   "metadata": {},
   "outputs": [
    {
     "data": {
      "text/plain": [
       "      fun: -11.898894665981146\n",
       " hess_inv: array([[1.6851537]])\n",
       "      jac: array([-7.15255737e-07])\n",
       "  message: 'Optimization terminated successfully.'\n",
       "     nfev: 36\n",
       "      nit: 4\n",
       "     njev: 12\n",
       "   status: 0\n",
       "  success: True\n",
       "        x: array([25.88019227])"
      ]
     },
     "execution_count": 74,
     "metadata": {},
     "output_type": "execute_result"
    }
   ],
   "source": [
    "x0 = 12\n",
    "sp.optimize.minimize(func, x0)"
   ]
  },
  {
   "cell_type": "markdown",
   "metadata": {},
   "source": [
    "6. Укажите в scipy.optimize.minimize в качестве метода BFGS (один из самых точных в большинстве случаев градиентных методов оптимизации), запустите из начального приближения x=2. Градиент функции при этом указывать не нужно – он будет оценен численно. \n",
    "\n",
    "*Полученное значение функции в точке минимума - ваш первый ответ по заданию 1, его надо записать с точностью до 2 знака после запятой*."
   ]
  },
  {
   "cell_type": "code",
   "execution_count": 75,
   "metadata": {},
   "outputs": [
    {
     "name": "stdout",
     "output_type": "stream",
     "text": [
      "      fun: 1.745268290344928\n",
      " hess_inv: array([[5.98750711]])\n",
      "      jac: array([-2.05636024e-06])\n",
      "  message: 'Optimization terminated successfully.'\n",
      "     nfev: 21\n",
      "      nit: 6\n",
      "     njev: 7\n",
      "   status: 0\n",
      "  success: True\n",
      "        x: array([4.13627619])\n",
      "1.75\n"
     ]
    }
   ],
   "source": [
    "x0 = np.array([2.0])\n",
    "Res1 = sp.optimize.minimize(func, x0, method='BFGS')\n",
    "print Res1\n",
    "# ! Значение функции\n",
    "print (round(Res1.fun, 2))\n"
   ]
  },
  {
   "cell_type": "markdown",
   "metadata": {},
   "source": [
    "7. Теперь измените начальное приближение на x=30. \n",
    "\n",
    "*Значение функции в точке минимума - ваш второй ответ по заданию 1, его надо записать через пробел после первого, с точностью до 2 знака после запятой.*"
   ]
  },
  {
   "cell_type": "code",
   "execution_count": 76,
   "metadata": {},
   "outputs": [
    {
     "name": "stdout",
     "output_type": "stream",
     "text": [
      "      fun: -11.898894665981322\n",
      " hess_inv: array([[1.67940841]])\n",
      "      jac: array([0.])\n",
      "  message: 'Optimization terminated successfully.'\n",
      "     nfev: 21\n",
      "      nit: 6\n",
      "     njev: 7\n",
      "   status: 0\n",
      "  success: True\n",
      "        x: array([25.880193])\n",
      "-11.9\n"
     ]
    }
   ],
   "source": [
    "x0 = 30.0\n",
    "Res2 = sp.optimize.minimize(func, x0, method='BFGS')\n",
    "print Res2\n",
    "print (round(Res2.fun, 2))"
   ]
  },
  {
   "cell_type": "markdown",
   "metadata": {},
   "source": [
    "### Задача 2. Глобальная оптимизация"
   ]
  },
  {
   "cell_type": "markdown",
   "metadata": {},
   "source": [
    "1. Теперь попробуем применить к той же функции f(x) метод глобальной оптимизации — дифференциальную эволюцию.\n",
    "2. Изучите документацию и примеры использования функции scipy.optimize.differential_evolution.\n",
    "3. Обратите внимание, что границы значений аргументов функции представляют собой список кортежей (list, в который помещены объекты типа tuple). Даже если у вас функция одного аргумента, возьмите границы его значений в квадратные скобки, чтобы передавать в этом параметре список из одного кортежа, т.к. в реализации scipy.optimize.differential_evolution длина этого списка используется чтобы определить количество аргументов функции."
   ]
  },
  {
   "cell_type": "code",
   "execution_count": 58,
   "metadata": {},
   "outputs": [
    {
     "data": {
      "text/plain": [
       "     fun: -11.898894665981281\n",
       "     jac: array([-1.77635684e-07])\n",
       " message: 'Optimization terminated successfully.'\n",
       "    nfev: 83\n",
       "     nit: 4\n",
       " success: True\n",
       "       x: array([25.88019266])"
      ]
     },
     "execution_count": 58,
     "metadata": {},
     "output_type": "execute_result"
    }
   ],
   "source": [
    "sp.optimize.differential_evolution(func, [(0,30)])"
   ]
  },
  {
   "cell_type": "markdown",
   "metadata": {},
   "source": [
    "4. Запустите поиск минимума функции f(x) с помощью дифференциальной эволюции на промежутке [1, 30]. Полученное значение функции в точке минимума - ответ в задаче 2. Запишите его с точностью до второго знака после запятой. В этой задаче ответ - только одно число."
   ]
  },
  {
   "cell_type": "code",
   "execution_count": 77,
   "metadata": {},
   "outputs": [
    {
     "name": "stdout",
     "output_type": "stream",
     "text": [
      "-11.9\n"
     ]
    }
   ],
   "source": [
    "Res3 = sp.optimize.differential_evolution(func, [(0,30)])\n",
    "print (round(Res3.fun, 2))"
   ]
  },
  {
   "cell_type": "markdown",
   "metadata": {},
   "source": [
    "5. Заметьте, дифференциальная эволюция справилась с задачей поиска глобального минимума на отрезке, т.к. по своему устройству она предполагает борьбу с попаданием в локальные минимумы."
   ]
  },
  {
   "cell_type": "markdown",
   "metadata": {},
   "source": [
    "6. Сравните количество итераций, потребовавшихся BFGS для нахождения минимума при хорошем начальном приближении, с количеством итераций, потребовавшихся дифференциальной эволюции. При повторных запусках дифференциальной эволюции количество итераций будет меняться, но в этом примере, скорее всего, оно всегда будет сравнимым с количеством итераций BFGS. Однако в дифференциальной эволюции за одну итерацию требуется выполнить гораздо больше действий, чем в BFGS. Например, можно обратить внимание на количество вычислений значения функции (nfev) и увидеть, что у BFGS оно значительно меньше. Кроме того, время работы дифференциальной эволюции очень быстро растет с увеличением числа аргументов функции.\n"
   ]
  },
  {
   "cell_type": "markdown",
   "metadata": {},
   "source": [
    "### Задача 3. Минимизация негладкой функции"
   ]
  },
  {
   "cell_type": "markdown",
   "metadata": {},
   "source": [
    "1. Теперь рассмотрим функцию h(x) = int(f(x)) на том же отрезке [1, 30], т.е. теперь каждое значение f(x) приводится к типу int и функция принимает только целые значения.\n",
    "2. Такая функция будет негладкой и даже разрывной, а ее график будет иметь ступенчатый вид. Убедитесь в этом, построив график h(x) с помощью matplotlib.\n",
    "3. Попробуйте найти минимум функции h(x) с помощью BFGS, взяв в качестве начального приближения x=30. Получившееся значение функции – ваш первый ответ в этой задаче.\n",
    "4. Теперь попробуйте найти минимум h(x) на отрезке [1, 30] с помощью дифференциальной эволюции. Значение функции h(x) в точке минимума – это ваш второй ответ в этом задании. Запишите его через пробел после предыдущего.\n",
    "5. Обратите внимание на то, что полученные ответы различаются. Это ожидаемый результат, ведь BFGS использует градиент (в одномерном случае – производную) и явно не пригоден для минимизации рассмотренной нами разрывной функции. Попробуйте понять, почему минимум, найденный BFGS, именно такой (возможно в этом вам поможет выбор разных начальных приближений).\n",
    "6. Выполнив это задание, вы увидели на практике, чем поиск минимума функции отличается от глобальной оптимизации, и когда может быть полезно применить вместо градиентного метода оптимизации метод, не использующий градиент. Кроме того, вы попрактиковались в использовании библиотеки SciPy для решения оптимизационных задач, и теперь знаете, насколько это просто и удобно."
   ]
  },
  {
   "cell_type": "code",
   "execution_count": 87,
   "metadata": {},
   "outputs": [
    {
     "data": {
      "image/png": "[encoded data removed]",
      "text/plain": [
       "<Figure size 432x288 with 1 Axes>"
      ]
     },
     "metadata": {
      "needs_background": "light"
     },
     "output_type": "display_data"
    },
    {
     "name": "stdout",
     "output_type": "stream",
     "text": [
      "      fun: -5\n",
      " hess_inv: array([[1]])\n",
      "      jac: array([0.])\n",
      "  message: 'Optimization terminated successfully.'\n",
      "     nfev: 3\n",
      "      nit: 0\n",
      "     njev: 1\n",
      "   status: 0\n",
      "  success: True\n",
      "        x: array([30.])\n",
      "-5.0\n",
      "     fun: -11.0\n",
      " message: 'Optimization terminated successfully.'\n",
      "    nfev: 122\n",
      "     nit: 7\n",
      " success: True\n",
      "       x: array([24.03162822])\n",
      "-11.0\n"
     ]
    }
   ],
   "source": [
    "def intFunc (x):\n",
    "    \"\"\"\n",
    "    np.sin(x/5)*np.exp(x/10) + 5*np.exp(-x/2)\n",
    "    \"\"\"\n",
    "    return int(math.sin(x/5)*math.exp(x/10) + 5*math.exp(-x/2))\n",
    "\n",
    "drawfunc(1, 30, 1, intFunc)\n",
    "\n",
    "# минимум функции h(x) с помощью BFGS\n",
    "x0 = 30\n",
    "Res4 = sp.optimize.minimize(intFunc, x0, method='BFGS')\n",
    "print Res4\n",
    "print (round(Res4.fun, 2))\n",
    "\n",
    "# минимум h(x) на отрезке [1, 30] с помощью дифференциальной эволюции.\n",
    "Res5 = sp.optimize.differential_evolution(intFunc, [(1,30)])\n",
    "print Res5\n",
    "print (round(Res5.fun, 2))"
   ]
  },
  {
   "cell_type": "code",
   "execution_count": null,
   "metadata": {},
   "outputs": [],
   "source": []
  }
 ],
 "metadata": {
  "kernelspec": {
   "display_name": "Python 2",
   "language": "python",
   "name": "python2"
  },
  "language_info": {
   "codemirror_mode": {
    "name": "ipython",
    "version": 2
   },
   "file_extension": ".py",
   "mimetype": "text/x-python",
   "name": "python",
   "nbconvert_exporter": "python",
   "pygments_lexer": "ipython2",
   "version": "2.7.15"
  }
 },
 "nbformat": 4,
 "nbformat_minor": 2
}
