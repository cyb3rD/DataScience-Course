{
 "cells": [
  {
   "cell_type": "markdown",
   "metadata": {},
   "source": [
    "# Линейная алгебра: сходство текстов и аппроксимация функций"
   ]
  },
  {
   "cell_type": "markdown",
   "metadata": {},
   "source": [
    "1-2. Каждая строка в файле соответствует одному предложению. Считайте их, приведите каждую к нижнему регистру с помощью строковой функции lower()."
   ]
  },
  {
   "cell_type": "code",
   "execution_count": 189,
   "metadata": {},
   "outputs": [
    {
     "name": "stdout",
     "output_type": "stream",
     "text": [
      "<type 'list'>\n",
      "22\n"
     ]
    }
   ],
   "source": [
    "# Open source file\n",
    "file_obj = open('_sentences.txt', 'r')\n",
    "src_lines = file_obj.readlines()\n",
    "file_obj.close()\n",
    "\n",
    "# List of strings with lower symols without '\\n'\n",
    "sentences = [line.rstrip().lower() for line in src_lines]\n",
    "\n",
    "print type(sentences)\n",
    "print len(sentences)"
   ]
  },
  {
   "cell_type": "markdown",
   "metadata": {},
   "source": [
    "3. Произведите токенизацию, то есть разбиение текстов на слова. \n",
    "Для этого можно воспользоваться регулярным выражением, \n",
    "которое считает разделителем любой символ, не являющийся буквой: re.split('[^a-z]', t). \n",
    "Не забудьте удалить пустые слова после разделения."
   ]
  },
  {
   "cell_type": "code",
   "execution_count": 190,
   "metadata": {},
   "outputs": [],
   "source": [
    "import re\n",
    "sentencesWithWords = [re.split('[^a-z]', sentence) for sentence in sentences]\n",
    "\n",
    "# Create merge list of sentences with words in one list\n",
    "def merge(lst, res=[]):\n",
    "  for el in lst:\n",
    "    merge(el) if isinstance(el, list) else res.append(el)\n",
    "  return res\n",
    "\n",
    "listOfWords = merge(word for word in sentencesWithWords)\n",
    "# Prepare list of unique words                 \n",
    "uniqueWords = set(listOfWords)\n",
    "uniqueWords.remove('')\n",
    "uniqueWords = list(uniqueWords)"
   ]
  },
  {
   "cell_type": "markdown",
   "metadata": {},
   "source": [
    "4. Составьте список всех слов, встречающихся в предложениях. \n",
    "Сопоставьте каждому слову индекс от нуля до (d - 1), где d — число различных слов в предложениях. \n",
    "Для этого удобно воспользоваться структурой dict."
   ]
  },
  {
   "cell_type": "code",
   "execution_count": 191,
   "metadata": {},
   "outputs": [
    {
     "name": "stdout",
     "output_type": "stream",
     "text": [
      "{'osx': 0, 'selection': 1, 'safari': 2, 'just': 3, 'developed': 4, 'over': 5, 'vermin': 6, 'domestic': 7, 'major': 110, 'installed': 9, 'symbols': 10, 'through': 11, 'human': 12, 'world': 13, 'disk': 14, 'its': 15, 'fifth': 16, 'apple': 113, 'tamed': 18, 'upgrade': 19, 'lb': 20, 'computers': 179, 'to': 22, 'version': 69, 'deliberately': 24, 'marks': 25, 'has': 26, 'arguments': 210, 'predecessor': 27, 'non': 28, 'adjacent': 211, 'read': 30, 'made': 163, 'every': 32, 'they': 34, 'not': 35, 'during': 36, 'now': 37, 'organisms': 236, 'people': 131, 'possess': 38, 'intel': 39, 'keyboards': 40, 'command': 246, 'bytes': 41, 'unnecessary': 42, 'patch': 43, 'common': 76, 'release': 83, 'output': 46, 'entirely': 47, 'where': 48, 'stdin': 240, 'ears': 49, 'concatenate': 77, 'right': 119, 'often': 52, 'wrong': 226, 'sequence': 53, 'some': 54, 'lion': 55, 'frequency': 56, 'are': 57, 'year': 58, 'download': 59, 'terms': 60, 'firmware': 205, 'concern': 61, 'for': 63, 'pipes': 64, 'since': 65, 'factory': 66, 'artificial': 67, 'content': 68, 'won': 23, 'between': 71, 'kg': 235, 'new': 72, 'learned': 73, 'piped': 75, 'predators': 44, 'available': 50, 'be': 78, 'run': 70, 'genes': 80, 'undergone': 124, 'standard': 82, 'small': 45, 'were': 173, 'diploid': 84, 'members': 85, 'x': 86, 'based': 87, 'safer': 88, 'by': 89, 'on': 51, 'commands': 91, 'weighing': 79, 'installs': 94, 'of': 95, 'needing': 96, 'allows': 97, 'according': 98, 's': 102, 'streams': 103, 'receives': 104, 'successor': 105, 'catenates': 106, 'os': 33, 'or': 108, 'and': 177, 'named': 8, 'contains': 148, 'useful': 112, 'features': 17, 'app': 114, 'mice': 157, 'community': 115, 'one': 116, 'running': 117, 'unix': 118, 'simply': 120, 'linux': 121, 'sounds': 122, 'size': 123, 'use': 81, 'delete': 125, 'from': 126, 'enhancements': 127, 'redirection': 134, 'create': 130, 'faint': 111, 'three': 74, 't': 133, 'their': 129, 'however': 135, 'cats': 136, 'too': 137, 'basic': 138, 'permanently': 139, 'type': 140, 'dogs': 141, 'store': 142, 'more': 143, 'files': 144, 'releases': 145, 'both': 90, 'started': 147, 'offered': 216, 'releasing': 149, 'tiger': 150, 'released': 151, 'part': 152, 'hear': 153, 'external': 154, 'editions': 155, 'installation': 92, 'july': 99, 'with': 158, 'than': 159, 'those': 160, 'count': 162, 'october': 31, 'animals': 164, 'mavericks': 165, 'versions': 166, 'default': 167, 'was': 168, 'typically': 252, 'second': 128, 'cat': 170, 'will': 171, 'information': 220, 'can': 172, 'error': 62, 'wild': 174, 'similar': 175, 'displays': 93, 'felis': 109, 'interactive': 176, 'file': 192, 'stdout': 181, 'process': 182, 'flow': 241, 'is': 184, 'received': 185, 'moved': 186, 'it': 187, 'an': 188, 'high': 189, 'single': 169, 'incremental': 191, 'have': 180, 'in': 193, 'need': 194, 'domesticated': 195, 'any': 196, 'as': 190, 'if': 198, 'mountain': 178, 'processors': 200, 'no': 201, 'rather': 202, 'legibility': 203, 'separate': 204, 'that': 146, 'when': 206, 'mid': 207, 'also': 208, 'other': 209, 'domestication': 197, 'which': 29, 'online': 212, 'instead': 213, 'you': 214, 'ancestor': 215, 'used': 217, 'chromosomes': 218, 'closest': 219, 'binary': 199, 'may': 221, 'symbol': 222, 'leopard': 223, 'update': 224, 'most': 225, 'mac': 101, 'connected': 227, 'two': 132, 'yosemite': 228, 'such': 229, 'comparison': 230, 'recent': 231, 'a': 232, 'purchase': 233, 'genus': 234, 'off': 156, 'longer': 161, 'using': 237, 'changes': 107, 'clear': 239, 'later': 100, 'lines': 183, 'drive': 21, 'switch': 244, 'without': 245, 'so': 243, 'place': 247, 'allow': 248, 'time': 249, 'redirected': 250, 'the': 251, 'roughly': 242, 'starting': 238, 'left': 253}\n"
     ]
    }
   ],
   "source": [
    "# dictionary {\"word\" : \"index\"}\n",
    "wordsDict = {}\n",
    "index = 0\n",
    "for word in uniqueWords:\n",
    "    wordsDict[word] = index\n",
    "    index = index+1\n",
    "    \n",
    "print wordsDict\n",
    "\n"
   ]
  },
  {
   "cell_type": "markdown",
   "metadata": {},
   "source": [
    "5. Создайте матрицу размера n * d, где n — число предложений. Заполните ее: элемент с индексом (i, j) в этой матрице должен быть равен количеству вхождений j-го слова в i-е предложение. У вас должна получиться матрица размера 22 * 254."
   ]
  },
  {
   "cell_type": "code",
   "execution_count": 192,
   "metadata": {},
   "outputs": [
    {
     "name": "stdout",
     "output_type": "stream",
     "text": [
      "(22, 254)\n",
      "0.0\n",
      "0.9402385695332803\n",
      "0.8619868881315291\n",
      "0.8885443574849294\n",
      "0.8055388829343507\n",
      "0.9351796276447836\n",
      "0.7547442642060137\n",
      "0.9154845745271484\n",
      "0.9069515789601529\n",
      "0.8833576312960392\n",
      "0.8703592552895671\n",
      "0.8703592552895671\n",
      "0.8773721321030068\n",
      "0.8703592552895671\n",
      "0.8619868881315291\n",
      "0.9402385695332803\n",
      "0.85361498905772\n",
      "0.9503708333014534\n",
      "0.9442721787424647\n",
      "0.9402385695332803\n",
      "0.8427572744917122\n",
      "0.8250364469440588\n",
      "[0.         0.94023857 0.86198689 0.88854436 0.80553888 0.93517963\n",
      " 0.75474426 0.91548457 0.90695158 0.88335763 0.87035926 0.87035926\n",
      " 0.87737213 0.87035926 0.86198689 0.94023857 0.85361499 0.95037083\n",
      " 0.94427218 0.94023857 0.84275727 0.82503645]\n"
     ]
    }
   ],
   "source": [
    "import numpy as np\n",
    "\n",
    "matrix = np.zeros((len(sentences), len(wordsDict)))\n",
    "\n",
    "print matrix.shape\n",
    "\n",
    "sentence_index = 0;\n",
    "for sentence in sentencesWithWords:\n",
    "    for word in wordsDict.keys() :\n",
    "        # \n",
    "        if word in sentence : \n",
    "            #print \"found word: \" + word + ' value|index: ' + str(wordsDict[word])\n",
    "            #print sentence\n",
    "            #print \"sentence: \" + str(sentence_index) + ' found: ' + word\n",
    "            matrix[sentence_index, wordsDict[word]] = matrix[sentence_index, wordsDict[word]] +1\n",
    "    sentence_index = sentence_index + 1\n",
    "#\n",
    "resMatrix = np.arange(22, dtype=float)\n",
    "\n",
    "from scipy.spatial import distance\n",
    "\n",
    "for index in range(0, len(sentences)):    \n",
    "    #result[index] = distance.cosine (matrix[0], matrix[index])\n",
    "    mydistance =  distance.cosine (matrix[0], matrix[index])\n",
    "    print mydistance\n",
    "    resMatrix[index] = mydistance\n",
    "\n",
    "print resMatrix"
   ]
  },
  {
   "cell_type": "code",
   "execution_count": 193,
   "metadata": {},
   "outputs": [
    {
     "name": "stdout",
     "output_type": "stream",
     "text": [
      "0.7547442642060137\n"
     ]
    }
   ],
   "source": [
    "def find_nearest(array, value):\n",
    "    array = np.asarray(array)\n",
    "    idx = (np.abs(array - value)).argmin()\n",
    "    return array[idx]\n",
    "\n",
    "nearest = find_nearest(resMatrix[1:], 0)\n",
    "print nearest"
   ]
  },
  {
   "cell_type": "markdown",
   "metadata": {},
   "source": [
    "Берем многочлен первой степени w0 + w1*x = y\n",
    "Подставляем в него x (1 и 5) и y (вычисляем f от x)\n",
    "\n",
    "В точке 1 получаем: w0 + w1 * 1 = sin(1/5) * exp(1/10) + 5*exp(-1/2)\n",
    "В точке 15 получаем: w0 + w1 * 15 = sin(15/5) * exp(15/10) + 5*exp(-15/2)\n",
    "\n",
    "Коэффициенты для первого случая:\n",
    "    при  w0 = 1, при w1 = 1 \n",
    "    при  w0 = 1, при w1 = 15"
   ]
  },
  {
   "cell_type": "code",
   "execution_count": 216,
   "metadata": {},
   "outputs": [
    {
     "name": "stdout",
     "output_type": "stream",
     "text": [
      "3.252216865271419\n",
      "1.7468459495903677\n",
      "2.5054164070002463\n",
      "0.6352214195786656\n",
      "[[1.000e+00 1.000e+00 1.000e+00 1.000e+00]\n",
      " [1.000e+00 4.000e+00 1.600e+01 6.400e+01]\n",
      " [1.000e+00 1.000e+01 1.000e+02 1.000e+03]\n",
      " [1.000e+00 1.500e+01 2.250e+02 3.375e+03]]\n",
      "[ 4.36264154 -1.29552587  0.19333685 -0.00823565]\n",
      "[ True  True False False]\n",
      "[ 1.    1.01  1.02 ... 14.97 14.98 14.99]\n"
     ]
    },
    {
     "data": {
      "image/png": "[encoded data removed]",
      "text/plain": [
       "<Figure size 432x288 with 1 Axes>"
      ]
     },
     "metadata": {
      "needs_background": "light"
     },
     "output_type": "display_data"
    }
   ],
   "source": [
    " %matplotlib inline\n",
    "import scipy as sp\n",
    "import math as math\n",
    "\n",
    "# Function to aproximate\n",
    "def func (x):\n",
    "    \"\"\"\n",
    "    np.sin(x/5)*np.exp(x/10) + 5*np.exp(-x/2)\n",
    "    \"\"\"\n",
    "    return np.sin(x/5.)*np.exp(x/10.) + 5.*np.exp(-x/2.)\n",
    "\n",
    "f1 = func(1.)\n",
    "print f1\n",
    "f4 = func(4.)\n",
    "print f4\n",
    "f10 = func(10.)\n",
    "print f10\n",
    "f15 = func(15.)\n",
    "print f15\n",
    "\n",
    "a = np.array([[1., 1., 1., 1.],\n",
    "              [1., 4., 4.**2, 4.**3],\n",
    "              [1., 10., 10.**2, 10.**3],\n",
    "              [1., 15., 15**2, 15.**3]])\n",
    "print a\n",
    "b = np.array([f1, f4, f10, f15])\n",
    "\n",
    "x = sp.linalg.solve(a,b)\n",
    "print x\n",
    "\n",
    "print np.dot(a,x) == b\n",
    "\n",
    "import matplotlib.pyplot as plt\n",
    "\n",
    "# Интервал изменения переменной по оси X\n",
    "xmin = 1.0\n",
    "xmax = 15.0\n",
    "\n",
    "# Шаг между точками\n",
    "dx = 0.01\n",
    "# !!! Создадим список координат по оси X на отрезке [-xmin; xmax], включая концы\n",
    "xlist = np.arange (xmin, xmax, dx)\n",
    "print xlist\n",
    "# Вычислим значение функции в заданных точках\n",
    "ylist = [func (x) for x in xlist]\n",
    "#print ylist\n",
    "# !!! Нарисуем одномерный график\n",
    "plt.plot (xlist, ylist)\n",
    "\n",
    "# !!! Покажем окно с нарисованным графиком\n",
    "plt.show()"
   ]
  },
  {
   "cell_type": "code",
   "execution_count": null,
   "metadata": {},
   "outputs": [],
   "source": []
  }
 ],
 "metadata": {
  "kernelspec": {
   "display_name": "Python 2",
   "language": "python",
   "name": "python2"
  },
  "language_info": {
   "codemirror_mode": {
    "name": "ipython",
    "version": 2
   },
   "file_extension": ".py",
   "mimetype": "text/x-python",
   "name": "python",
   "nbconvert_exporter": "python",
   "pygments_lexer": "ipython2",
   "version": "2.7.15"
  }
 },
 "nbformat": 4,
 "nbformat_minor": 2
}
